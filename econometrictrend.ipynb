{
  "nbformat": 4,
  "nbformat_minor": 0,
  "metadata": {
    "colab": {
      "name": "Untitled4.ipynb",
      "provenance": [],
      "authorship_tag": "ABX9TyPe3Y0NlvCZMR8fnfHK31J7",
      "include_colab_link": true
    },
    "kernelspec": {
      "name": "python3",
      "display_name": "Python 3"
    },
    "language_info": {
      "name": "python"
    }
  },
  "cells": [
    {
      "cell_type": "markdown",
      "metadata": {
        "id": "view-in-github",
        "colab_type": "text"
      },
      "source": [
        "<a href=\"https://colab.research.google.com/github/ikarteeva/econometrictrend/blob/main/econometrictrend.ipynb\" target=\"_parent\"><img src=\"https://colab.research.google.com/assets/colab-badge.svg\" alt=\"Open In Colab\"/></a>"
      ]
    },
    {
      "cell_type": "markdown",
      "metadata": {
        "id": "Z1VzCHbgWTeG"
      },
      "source": [
        "# **Выявление формулы линейного тренда**"
      ]
    },
    {
      "cell_type": "markdown",
      "metadata": {
        "id": "GJNkuH3XWbPF"
      },
      "source": [
        "**Сглаживание скользящими взвешенными средними**"
      ]
    },
    {
      "cell_type": "code",
      "metadata": {
        "colab": {
          "base_uri": "https://localhost:8080/",
          "height": 206
        },
        "id": "F1S39ECfQdYP",
        "outputId": "ddf42e65-a94b-4833-b010-851b7d5ca3b7"
      },
      "source": [
        "import pandas as pd\n",
        "excel_data_df = pd.read_excel('analysis.xlsx')\n",
        "\n",
        "excel_data_df.head()"
      ],
      "execution_count": 3,
      "outputs": [
        {
          "output_type": "execute_result",
          "data": {
            "text/html": [
              "<div>\n",
              "<style scoped>\n",
              "    .dataframe tbody tr th:only-of-type {\n",
              "        vertical-align: middle;\n",
              "    }\n",
              "\n",
              "    .dataframe tbody tr th {\n",
              "        vertical-align: top;\n",
              "    }\n",
              "\n",
              "    .dataframe thead th {\n",
              "        text-align: right;\n",
              "    }\n",
              "</style>\n",
              "<table border=\"1\" class=\"dataframe\">\n",
              "  <thead>\n",
              "    <tr style=\"text-align: right;\">\n",
              "      <th></th>\n",
              "      <th>t</th>\n",
              "      <th>yt</th>\n",
              "    </tr>\n",
              "  </thead>\n",
              "  <tbody>\n",
              "    <tr>\n",
              "      <th>0</th>\n",
              "      <td>1</td>\n",
              "      <td>810</td>\n",
              "    </tr>\n",
              "    <tr>\n",
              "      <th>1</th>\n",
              "      <td>2</td>\n",
              "      <td>2500</td>\n",
              "    </tr>\n",
              "    <tr>\n",
              "      <th>2</th>\n",
              "      <td>3</td>\n",
              "      <td>2100</td>\n",
              "    </tr>\n",
              "    <tr>\n",
              "      <th>3</th>\n",
              "      <td>4</td>\n",
              "      <td>3700</td>\n",
              "    </tr>\n",
              "    <tr>\n",
              "      <th>4</th>\n",
              "      <td>5</td>\n",
              "      <td>4500</td>\n",
              "    </tr>\n",
              "  </tbody>\n",
              "</table>\n",
              "</div>"
            ],
            "text/plain": [
              "   t    yt\n",
              "0  1   810\n",
              "1  2  2500\n",
              "2  3  2100\n",
              "3  4  3700\n",
              "4  5  4500"
            ]
          },
          "metadata": {},
          "execution_count": 3
        }
      ]
    },
    {
      "cell_type": "code",
      "metadata": {
        "colab": {
          "base_uri": "https://localhost:8080/"
        },
        "id": "scH_zIq4RKNN",
        "outputId": "6b8b43a9-0fe7-438c-82f7-1500a1b35d88"
      },
      "source": [
        "yts = []\n",
        "yts.append(excel_data_df['yt'][0])\n",
        "i=0\n",
        "for element in excel_data_df['yt']:\n",
        "  i=i+1\n",
        "  if(i>excel_data_df['yt'].size-2):\n",
        "    pass\n",
        "  else:\n",
        "    yts_per = (excel_data_df['yt'][i-1]+2*excel_data_df['yt'][i]+excel_data_df['yt'][i+1])/4\n",
        "    yts.append(yts_per)\n",
        "print(i)\n",
        "yts.append(excel_data_df['yt'][i-1])"
      ],
      "execution_count": 30,
      "outputs": [
        {
          "output_type": "stream",
          "name": "stdout",
          "text": [
            "30\n"
          ]
        }
      ]
    },
    {
      "cell_type": "code",
      "metadata": {
        "id": "wPRLAiJZRq4c"
      },
      "source": [
        "excel_data_df['yts'] = yts"
      ],
      "execution_count": 32,
      "outputs": []
    },
    {
      "cell_type": "code",
      "metadata": {
        "colab": {
          "base_uri": "https://localhost:8080/",
          "height": 206
        },
        "id": "pnZeNPUyVuZd",
        "outputId": "07a4da9b-e4f0-4902-bbf9-f4edf3eaa7df"
      },
      "source": [
        "excel_data_df.head()"
      ],
      "execution_count": 33,
      "outputs": [
        {
          "output_type": "execute_result",
          "data": {
            "text/html": [
              "<div>\n",
              "<style scoped>\n",
              "    .dataframe tbody tr th:only-of-type {\n",
              "        vertical-align: middle;\n",
              "    }\n",
              "\n",
              "    .dataframe tbody tr th {\n",
              "        vertical-align: top;\n",
              "    }\n",
              "\n",
              "    .dataframe thead th {\n",
              "        text-align: right;\n",
              "    }\n",
              "</style>\n",
              "<table border=\"1\" class=\"dataframe\">\n",
              "  <thead>\n",
              "    <tr style=\"text-align: right;\">\n",
              "      <th></th>\n",
              "      <th>t</th>\n",
              "      <th>yt</th>\n",
              "      <th>yts</th>\n",
              "    </tr>\n",
              "  </thead>\n",
              "  <tbody>\n",
              "    <tr>\n",
              "      <th>0</th>\n",
              "      <td>1</td>\n",
              "      <td>810</td>\n",
              "      <td>810.0</td>\n",
              "    </tr>\n",
              "    <tr>\n",
              "      <th>1</th>\n",
              "      <td>2</td>\n",
              "      <td>2500</td>\n",
              "      <td>1977.5</td>\n",
              "    </tr>\n",
              "    <tr>\n",
              "      <th>2</th>\n",
              "      <td>3</td>\n",
              "      <td>2100</td>\n",
              "      <td>2600.0</td>\n",
              "    </tr>\n",
              "    <tr>\n",
              "      <th>3</th>\n",
              "      <td>4</td>\n",
              "      <td>3700</td>\n",
              "      <td>3500.0</td>\n",
              "    </tr>\n",
              "    <tr>\n",
              "      <th>4</th>\n",
              "      <td>5</td>\n",
              "      <td>4500</td>\n",
              "      <td>4222.5</td>\n",
              "    </tr>\n",
              "  </tbody>\n",
              "</table>\n",
              "</div>"
            ],
            "text/plain": [
              "   t    yt     yts\n",
              "0  1   810   810.0\n",
              "1  2  2500  1977.5\n",
              "2  3  2100  2600.0\n",
              "3  4  3700  3500.0\n",
              "4  5  4500  4222.5"
            ]
          },
          "metadata": {},
          "execution_count": 33
        }
      ]
    },
    {
      "cell_type": "markdown",
      "metadata": {
        "id": "RkbG5XkwfECa"
      },
      "source": [
        "**Построение графиков**"
      ]
    },
    {
      "cell_type": "code",
      "metadata": {
        "colab": {
          "base_uri": "https://localhost:8080/",
          "height": 287
        },
        "id": "m_Ofl2P1V3N3",
        "outputId": "f3d6e886-c9d3-44b0-a2c0-f35f3ba0478b"
      },
      "source": [
        "import matplotlib.pyplot as plt\n",
        "\n",
        "plt.plot(excel_data_df['t'], excel_data_df['yt'])\n",
        "\n",
        "plt.plot(excel_data_df['t'], excel_data_df['yts'])"
      ],
      "execution_count": 34,
      "outputs": [
        {
          "output_type": "execute_result",
          "data": {
            "text/plain": [
              "[<matplotlib.lines.Line2D at 0x7f035a2dd2d0>]"
            ]
          },
          "metadata": {},
          "execution_count": 34
        },
        {
          "output_type": "display_data",
          "data": {
            "image/png": "[encoded data removed]",
            "text/plain": [
              "<Figure size 432x288 with 1 Axes>"
            ]
          },
          "metadata": {
            "needs_background": "light"
          }
        }
      ]
    },
    {
      "cell_type": "markdown",
      "metadata": {
        "id": "3Z-BHvn9fKkY"
      },
      "source": [
        "**Вычисление переменных для СЛАУ**"
      ]
    },
    {
      "cell_type": "code",
      "metadata": {
        "colab": {
          "base_uri": "https://localhost:8080/"
        },
        "id": "X9uqprjZWOAW",
        "outputId": "54984727-70fc-460b-9f71-9b4bb8a3f60e"
      },
      "source": [
        "t_list=excel_data_df['t'].values.tolist()\n",
        "yts_list=excel_data_df['yts'].values.tolist()\n",
        "i=0\n",
        "t_sum=0\n",
        "t2_sum=0\n",
        "yts_sum=0\n",
        "ytst_sum=0\n",
        "while i<len(t_list):\n",
        "  t_sum=t_list[i]+t_sum\n",
        "  t2_sum=t_list[i]*t_list[i]+t2_sum\n",
        "  yts_sum=yts_list[i]+yts_sum \n",
        "  ytst_sum=yts_list[i]*t_list[i]+ytst_sum\n",
        "  i=i+1\n",
        "\n",
        "print(\"Сумма по t:\", t_sum, \"| Сумма по t^2:\", t2_sum, \"| Сумма по yt:\", yts_sum, \"| Сумма по yt*t:\", ytst_sum) "
      ],
      "execution_count": 71,
      "outputs": [
        {
          "output_type": "stream",
          "name": "stdout",
          "text": [
            "Сумма по t: 465 | Сумма по t^2: 9455 | Сумма по yt: 352433.75 | Сумма по yt*t: 7215937.5\n"
          ]
        }
      ]
    },
    {
      "cell_type": "markdown",
      "metadata": {
        "id": "q36XlDFKfRNc"
      },
      "source": [
        "**Вычисление коэффициентов тренда**"
      ]
    },
    {
      "cell_type": "code",
      "metadata": {
        "colab": {
          "base_uri": "https://localhost:8080/"
        },
        "id": "Ist6nW55WvKK",
        "outputId": "a3a951e0-f6a9-44a6-a25b-2bf893663600"
      },
      "source": [
        "import numpy as np\n",
        "\n",
        "Matrix = np.array([[len(t_list), t_sum], [t_sum, t2_sum]]) \n",
        "Vektor = np.array([yts_sum, ytst_sum]) \n",
        "\n",
        "result_slau=np.linalg.solve(Matrix, Vektor)\n",
        "\n",
        "print(result_slau)"
      ],
      "execution_count": 65,
      "outputs": [
        {
          "output_type": "stream",
          "name": "stdout",
          "text": [
            "[-343.34195402  780.07313682]\n"
          ]
        }
      ]
    }
  ]
}